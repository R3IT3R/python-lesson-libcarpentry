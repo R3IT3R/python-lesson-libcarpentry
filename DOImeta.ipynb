{
 "cells": [
  {
   "cell_type": "code",
   "execution_count": 6,
   "metadata": {},
   "outputs": [],
   "source": [
    "import urllib.request\n",
    "import json"
   ]
  },
  {
   "cell_type": "code",
   "execution_count": 3,
   "metadata": {},
   "outputs": [],
   "source": [
    "base_url = \"https://api.crossref.org/works/\"\n",
    "doi = \"10.1371/journal.pcbi.1004668\"\n",
    "full_url = base_url + doi\n",
    "doi_json_data = urllib.request.urlopen(full_url).read()"
   ]
  },
  {
   "cell_type": "code",
   "execution_count": 4,
   "metadata": {},
   "outputs": [],
   "source": [
    "# Liste mit DOIs\n",
    "dois = [\"10.1371/journal.pcbi.1004668\",\n",
    "        \"10.21105/joss.01035\",\n",
    "        \"10.1038/35057062\",\n",
    "        \"10.21105/joss.01006\"]"
   ]
  },
  {
   "cell_type": "code",
   "execution_count": 7,
   "metadata": {},
   "outputs": [],
   "source": [
    "doi_json_data = urllib.request.urlopen(full_url).read()"
   ]
  },
  {
   "cell_type": "code",
   "execution_count": 8,
   "metadata": {},
   "outputs": [],
   "source": [
    "doi_data = json.loads(doi_json_data)"
   ]
  },
  {
   "cell_type": "code",
   "execution_count": 11,
   "metadata": {},
   "outputs": [
    {
     "data": {
      "text/plain": [
       "'A Quick Introduction to Version Control with Git and GitHub'"
      ]
     },
     "execution_count": 11,
     "metadata": {},
     "output_type": "execute_result"
    }
   ],
   "source": [
    "doi_data['message']['title'][0]"
   ]
  },
  {
   "cell_type": "code",
   "execution_count": 14,
   "metadata": {},
   "outputs": [
    {
     "data": {
      "text/plain": [
       "'PLOS Computational Biology'"
      ]
     },
     "execution_count": 14,
     "metadata": {},
     "output_type": "execute_result"
    }
   ],
   "source": [
    "doi_data['message']['container-title'][0]"
   ]
  },
  {
   "cell_type": "code",
   "execution_count": 15,
   "metadata": {},
   "outputs": [
    {
     "name": "stdout",
     "output_type": "stream",
     "text": [
      "10.1371/journal.pcbi.1004668\n",
      "A Quick Introduction to Version Control with Git and GitHub\n",
      "PLOS Computational Biology\n",
      "===============\n",
      "10.21105/joss.01035\n",
      "A Quick Introduction to Version Control with Git and GitHub\n",
      "PLOS Computational Biology\n",
      "===============\n",
      "10.1038/35057062\n",
      "A Quick Introduction to Version Control with Git and GitHub\n",
      "PLOS Computational Biology\n",
      "===============\n",
      "10.21105/joss.01006\n",
      "A Quick Introduction to Version Control with Git and GitHub\n",
      "PLOS Computational Biology\n",
      "===============\n"
     ]
    }
   ],
   "source": [
    "for doi in dois:\n",
    "    doi_json_data = urllib.request.urlopen(full_url).read() # makes string\n",
    "    doi_data = json.loads(doi_json_data) # loads string\n",
    "    print(doi)\n",
    "    print(doi_data['message']['title'][0])\n",
    "    print(doi_data['message']['container-title'][0])\n",
    "    print('===============')"
   ]
  },
  {
   "cell_type": "code",
   "execution_count": null,
   "metadata": {},
   "outputs": [],
   "source": []
  }
 ],
 "metadata": {
  "kernelspec": {
   "display_name": "Python 3",
   "language": "python",
   "name": "python3"
  },
  "language_info": {
   "codemirror_mode": {
    "name": "ipython",
    "version": 3
   },
   "file_extension": ".py",
   "mimetype": "text/x-python",
   "name": "python",
   "nbconvert_exporter": "python",
   "pygments_lexer": "ipython3",
   "version": "3.8.5"
  }
 },
 "nbformat": 4,
 "nbformat_minor": 4
}
